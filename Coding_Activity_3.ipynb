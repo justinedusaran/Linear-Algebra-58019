{
  "nbformat": 4,
  "nbformat_minor": 0,
  "metadata": {
    "colab": {
      "name": "Coding Activity 3.ipynb",
      "provenance": [],
      "authorship_tag": "ABX9TyNj7Mg2UrzFgesdWGYxzjBT",
      "include_colab_link": true
    },
    "kernelspec": {
      "name": "python3",
      "display_name": "Python 3"
    },
    "language_info": {
      "name": "python"
    }
  },
  "cells": [
    {
      "cell_type": "markdown",
      "metadata": {
        "id": "view-in-github",
        "colab_type": "text"
      },
      "source": [
        "<a href=\"https://colab.research.google.com/github/qwertinuiop/Linear-Algebra-58019/blob/main/Coding_Activity_3.ipynb\" target=\"_parent\"><img src=\"https://colab.research.google.com/assets/colab-badge.svg\" alt=\"Open In Colab\"/></a>"
      ]
    },
    {
      "cell_type": "markdown",
      "metadata": {
        "id": "YS5RjeytSCJh"
      },
      "source": [
        "Create a NumPy program that solves for the unknown variables of linear systems:\n",
        "\n",
        "4x +10y+8z = 44\n",
        "\n",
        "10x+26y+26z = 128\n",
        "\n",
        "8x+26y+61z = 214"
      ]
    },
    {
      "cell_type": "code",
      "metadata": {
        "colab": {
          "base_uri": "https://localhost:8080/"
        },
        "id": "0RDKWcppPnV1",
        "outputId": "ee07e297-246e-478a-a983-c565e3642f8e"
      },
      "source": [
        "import numpy as np\n",
        "A = np.array([[4,10,8],[10,26,26],[8,26,61]]) #creation of matrix A\n",
        "inv_A = np.linalg.inv(A) #inverse of matrix A\n",
        "B = np.array([[44],[128],[214]]) #creation of matrix B\n",
        "X = np.dot(inv_A,B) #determining the values of x,y,z\n",
        "print(X)"
      ],
      "execution_count": 3,
      "outputs": [
        {
          "output_type": "stream",
          "name": "stdout",
          "text": [
            "[[-8.]\n",
            " [ 6.]\n",
            " [ 2.]]\n"
          ]
        }
      ]
    },
    {
      "cell_type": "code",
      "metadata": {
        "colab": {
          "base_uri": "https://localhost:8080/"
        },
        "id": "eYfHfRI-RtCi",
        "outputId": "95ceeead-e952-4388-903e-e6d2ef3c7b2a"
      },
      "source": [
        "#checking of answers\n",
        "C = np.dot(A,X)\n",
        "print(C)"
      ],
      "execution_count": 4,
      "outputs": [
        {
          "output_type": "stream",
          "name": "stdout",
          "text": [
            "[[ 44.]\n",
            " [128.]\n",
            " [214.]]\n"
          ]
        }
      ]
    }
  ]
}