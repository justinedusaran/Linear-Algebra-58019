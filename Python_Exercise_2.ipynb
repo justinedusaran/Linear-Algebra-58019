{
  "nbformat": 4,
  "nbformat_minor": 0,
  "metadata": {
    "colab": {
      "name": "Python Exercise 2.ipynb",
      "provenance": [],
      "collapsed_sections": [],
      "authorship_tag": "ABX9TyNcpFE9BBArZfl5a3PRcE6s",
      "include_colab_link": true
    },
    "kernelspec": {
      "name": "python3",
      "display_name": "Python 3"
    },
    "language_info": {
      "name": "python"
    }
  },
  "cells": [
    {
      "cell_type": "markdown",
      "metadata": {
        "id": "view-in-github",
        "colab_type": "text"
      },
      "source": [
        "<a href=\"https://colab.research.google.com/github/qwertinuiop/Linear-Algebra-58019/blob/main/Python_Exercise_2.ipynb\" target=\"_parent\"><img src=\"https://colab.research.google.com/assets/colab-badge.svg\" alt=\"Open In Colab\"/></a>"
      ]
    },
    {
      "cell_type": "markdown",
      "metadata": {
        "id": "E4zpLbMsngLj"
      },
      "source": [
        "##Representing Vectors"
      ]
    },
    {
      "cell_type": "code",
      "metadata": {
        "colab": {
          "base_uri": "https://localhost:8080/"
        },
        "id": "ftfd1vRJneQL",
        "outputId": "5e15c545-64a8-4b8d-9279-07c31af27cc1"
      },
      "source": [
        "import numpy as np\n",
        "A = np.array([4,3])\n",
        "B = np.array([2,-5])\n",
        "\n",
        "print('Vector A is', A)\n",
        "print('Vector B is', B)"
      ],
      "execution_count": 1,
      "outputs": [
        {
          "output_type": "stream",
          "name": "stdout",
          "text": [
            "Vector A is [4 3]\n",
            "Vector B is [ 2 -5]\n"
          ]
        }
      ]
    },
    {
      "cell_type": "markdown",
      "metadata": {
        "id": "eK6ZbMC2o0RL"
      },
      "source": [
        "##Describing Vectors in NumPy"
      ]
    },
    {
      "cell_type": "code",
      "metadata": {
        "colab": {
          "base_uri": "https://localhost:8080/"
        },
        "id": "c9EHrwato9-q",
        "outputId": "86997de3-23cb-4892-8cfc-d8af6f385cb0"
      },
      "source": [
        "ball1 = np.array([1,2,3])\n",
        "ball2 = np.array([0,1,-1])\n",
        "pool = np.array([ball1,ball2])\n",
        "pool.shape\n",
        "pool.ndim"
      ],
      "execution_count": 4,
      "outputs": [
        {
          "output_type": "execute_result",
          "data": {
            "text/plain": [
              "2"
            ]
          },
          "metadata": {},
          "execution_count": 4
        }
      ]
    },
    {
      "cell_type": "code",
      "metadata": {
        "colab": {
          "base_uri": "https://localhost:8080/"
        },
        "id": "IKdwdgC6qjej",
        "outputId": "c3156c88-bf51-442f-819e-a1b5c9e2baa2"
      },
      "source": [
        "U = np.array([[1,2,3],[4,5,6]])\n",
        "U\n",
        "U.size"
      ],
      "execution_count": 7,
      "outputs": [
        {
          "output_type": "execute_result",
          "data": {
            "text/plain": [
              "6"
            ]
          },
          "metadata": {},
          "execution_count": 7
        }
      ]
    },
    {
      "cell_type": "markdown",
      "metadata": {
        "id": "2dlWFVjRsDMD"
      },
      "source": [
        "#Space"
      ]
    },
    {
      "cell_type": "markdown",
      "metadata": {
        "id": "KdHqyL_KsEhD"
      },
      "source": [
        "##Vector spaces are mathematical objects that abstractly capture the geometry and algebra of linear equations"
      ]
    },
    {
      "cell_type": "markdown",
      "metadata": {
        "id": "_GfOKSrdtXjq"
      },
      "source": [
        "###Addition of Vectors"
      ]
    },
    {
      "cell_type": "code",
      "metadata": {
        "colab": {
          "base_uri": "https://localhost:8080/"
        },
        "id": "9V0GUv9ntV5c",
        "outputId": "161e456c-c582-49a4-f0d4-a32d0e88d6e6"
      },
      "source": [
        "addend1 = np.array([0,0,0])\n",
        "addend2 = np.array([1,1,0])\n",
        "sum = addend1 + addend2\n",
        "sum"
      ],
      "execution_count": 8,
      "outputs": [
        {
          "output_type": "execute_result",
          "data": {
            "text/plain": [
              "array([1, 1, 0])"
            ]
          },
          "metadata": {},
          "execution_count": 8
        }
      ]
    },
    {
      "cell_type": "code",
      "metadata": {
        "colab": {
          "base_uri": "https://localhost:8080/"
        },
        "id": "TIMDPUNmuX1M",
        "outputId": "e9e40ce5-29c2-49ae-df73-90682030e515"
      },
      "source": [
        "addend1 = np.array([0,0,0])\n",
        "addend2 = np.array([1,1,0])\n",
        "resultant = np.add(addend1,addend2)\n",
        "resultant"
      ],
      "execution_count": 10,
      "outputs": [
        {
          "output_type": "execute_result",
          "data": {
            "text/plain": [
              "array([1, 1, 0])"
            ]
          },
          "metadata": {},
          "execution_count": 10
        }
      ]
    },
    {
      "cell_type": "markdown",
      "metadata": {
        "id": "noNFMDbFvBdE"
      },
      "source": [
        "###Subtraction of Vector"
      ]
    },
    {
      "cell_type": "code",
      "metadata": {
        "colab": {
          "base_uri": "https://localhost:8080/"
        },
        "id": "wsDkZ1FovFR0",
        "outputId": "f428c315-71bd-4e9d-a8fb-9a363c176232"
      },
      "source": [
        "difference = addend1-addend2\n",
        "difference"
      ],
      "execution_count": 11,
      "outputs": [
        {
          "output_type": "execute_result",
          "data": {
            "text/plain": [
              "array([-1, -1,  0])"
            ]
          },
          "metadata": {},
          "execution_count": 11
        }
      ]
    },
    {
      "cell_type": "code",
      "metadata": {
        "colab": {
          "base_uri": "https://localhost:8080/"
        },
        "id": "YMFS0G_cwAE0",
        "outputId": "200ae646-a3b3-4f38-9db6-2fed24c51b9c"
      },
      "source": [
        "difference2 = np.subtract(addend1,addend2)\n",
        "difference2"
      ],
      "execution_count": 12,
      "outputs": [
        {
          "output_type": "execute_result",
          "data": {
            "text/plain": [
              "array([-1, -1,  0])"
            ]
          },
          "metadata": {},
          "execution_count": 12
        }
      ]
    },
    {
      "cell_type": "markdown",
      "metadata": {
        "id": "3Vxp1kWnwfvr"
      },
      "source": [
        "###Scaling"
      ]
    },
    {
      "cell_type": "code",
      "metadata": {
        "colab": {
          "base_uri": "https://localhost:8080/"
        },
        "id": "pzOJO-O3wkNM",
        "outputId": "0e98526b-9ce6-4858-b9f1-2ba0f22bb3f0"
      },
      "source": [
        "A = np.array([1,5,8,9])\n",
        "S = 5*A\n",
        "S"
      ],
      "execution_count": 15,
      "outputs": [
        {
          "output_type": "execute_result",
          "data": {
            "text/plain": [
              "array([ 5, 25, 40, 45])"
            ]
          },
          "metadata": {},
          "execution_count": 15
        }
      ]
    },
    {
      "cell_type": "markdown",
      "metadata": {
        "id": "oFzgmn0mxpHu"
      },
      "source": [
        "###Cross Product"
      ]
    },
    {
      "cell_type": "code",
      "metadata": {
        "colab": {
          "base_uri": "https://localhost:8080/"
        },
        "id": "AkE3Gs_rxamc",
        "outputId": "bd796098-a9de-4c18-a65c-01ccdcdc5563"
      },
      "source": [
        "import numpy as np\n",
        "A = np.array([2,3,4])\n",
        "B = np.array([1,7,1])\n",
        "\n",
        "#Compute the cross product of A and B\n",
        "cross = np.cross(A,B)\n",
        "print(cross)"
      ],
      "execution_count": 18,
      "outputs": [
        {
          "output_type": "stream",
          "name": "stdout",
          "text": [
            "[-25   2  11]\n"
          ]
        }
      ]
    },
    {
      "cell_type": "code",
      "metadata": {
        "colab": {
          "base_uri": "https://localhost:8080/"
        },
        "id": "2ADDiDMs0Gf9",
        "outputId": "10d219aa-8d3e-4d6f-e602-1a657eb30121"
      },
      "source": [
        "import numpy as np\n",
        "A = np.array([2,3])\n",
        "B = np.array([1,7])\n",
        "\n",
        "#Compute the dot product of A and B\n",
        "dot = np.dot(A,B)\n",
        "print(dot)"
      ],
      "execution_count": 19,
      "outputs": [
        {
          "output_type": "stream",
          "name": "stdout",
          "text": [
            "23\n"
          ]
        }
      ]
    }
  ]
}