{
  "nbformat": 4,
  "nbformat_minor": 0,
  "metadata": {
    "colab": {
      "name": "Practical Lab Exam 1.ipynb",
      "provenance": [],
      "collapsed_sections": [],
      "authorship_tag": "ABX9TyMyj/604hT4kotyF8RLJVZ+",
      "include_colab_link": true
    },
    "kernelspec": {
      "name": "python3",
      "display_name": "Python 3"
    },
    "language_info": {
      "name": "python"
    }
  },
  "cells": [
    {
      "cell_type": "markdown",
      "metadata": {
        "id": "view-in-github",
        "colab_type": "text"
      },
      "source": [
        "<a href=\"https://colab.research.google.com/github/qwertinuiop/Linear-Algebra-58019/blob/main/Practical_Lab_Exam_1.ipynb\" target=\"_parent\"><img src=\"https://colab.research.google.com/assets/colab-badge.svg\" alt=\"Open In Colab\"/></a>"
      ]
    },
    {
      "cell_type": "markdown",
      "metadata": {
        "id": "5DAxwe7bn6AQ"
      },
      "source": [
        "##Practical Lab Exam 1"
      ]
    },
    {
      "cell_type": "code",
      "metadata": {
        "colab": {
          "base_uri": "https://localhost:8080/"
        },
        "id": "SApKUlaQn9QH",
        "outputId": "59e6482f-a3b0-4fc3-fb17-78f1604a76fd"
      },
      "source": [
        "import numpy as np\n",
        "A = np.array([[1,2,3],[4,5,6]])\n",
        "B = np.array([[1,2],[3,4],[5,6]])\n",
        "dot = np.dot(A,B)\n",
        "print(\"a.\", dot)\n",
        "\n",
        "D = np.array([[1,2],[3,4]])\n",
        "sum = D+D\n",
        "print(\"b. \", sum)\n",
        "\n",
        "C = np.array([[1,2,3], [4,5,6], [7,8,9]])\n",
        "scaling = 2*C\n",
        "print(\"c.\", scaling)"
      ],
      "execution_count": 56,
      "outputs": [
        {
          "output_type": "stream",
          "name": "stdout",
          "text": [
            "a. [[22 28]\n",
            " [49 64]]\n",
            "b.  [[2 4]\n",
            " [6 8]]\n",
            "c. [[ 2  4  6]\n",
            " [ 8 10 12]\n",
            " [14 16 18]]\n"
          ]
        }
      ]
    },
    {
      "cell_type": "code",
      "metadata": {
        "colab": {
          "base_uri": "https://localhost:8080/"
        },
        "id": "Xi44zpXSriXA",
        "outputId": "e7acf3bc-8fec-4e87-fb1a-1e32998670d4"
      },
      "source": [
        "prob2 = np.matrix([5, 3, -1])\n",
        "print(prob2)\n",
        "print(\"Type: Row Matrix\")\n",
        "print(\"Shape:\", prob2.shape)\n",
        "print(\"Dimension:\", prob2.ndim)"
      ],
      "execution_count": 50,
      "outputs": [
        {
          "output_type": "stream",
          "name": "stdout",
          "text": [
            "[[ 5  3 -1]]\n",
            "Type: Row Matrix\n",
            "Shape: (1, 3)\n",
            "Dimension: 2\n"
          ]
        }
      ]
    }
  ]
}