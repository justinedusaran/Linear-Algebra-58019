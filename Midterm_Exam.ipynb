{
  "nbformat": 4,
  "nbformat_minor": 0,
  "metadata": {
    "colab": {
      "name": "Midterm Exam.ipynb",
      "provenance": [],
      "collapsed_sections": [],
      "authorship_tag": "ABX9TyNWC3RC1shLPGnbBnqLfBzv",
      "include_colab_link": true
    },
    "kernelspec": {
      "name": "python3",
      "display_name": "Python 3"
    },
    "language_info": {
      "name": "python"
    }
  },
  "cells": [
    {
      "cell_type": "markdown",
      "metadata": {
        "id": "view-in-github",
        "colab_type": "text"
      },
      "source": [
        "<a href=\"https://colab.research.google.com/github/qwertinuiop/Linear-Algebra-58019/blob/main/Midterm_Exam.ipynb\" target=\"_parent\"><img src=\"https://colab.research.google.com/assets/colab-badge.svg\" alt=\"Open In Colab\"/></a>"
      ]
    },
    {
      "cell_type": "markdown",
      "metadata": {
        "id": "6ptRggnM4E6q"
      },
      "source": [
        "Question 1. Create a Python code that displays a square matrix whose length is 5 (10 points)\n"
      ]
    },
    {
      "cell_type": "code",
      "metadata": {
        "colab": {
          "base_uri": "https://localhost:8080/"
        },
        "id": "pzFo34DBbfzz",
        "outputId": "65b4b2d5-8227-4844-edba-a95db21dfa44"
      },
      "source": [
        "import numpy as np\n",
        "A = np.array([[1,2,3,4,5],[5,4,3,2,1],[1,2,3,4,5],[5,4,3,2,1], [1,2,3,4,5]])\n",
        "print(A)"
      ],
      "execution_count": 25,
      "outputs": [
        {
          "output_type": "stream",
          "name": "stdout",
          "text": [
            "[[1 2 3 4 5]\n",
            " [5 4 3 2 1]\n",
            " [1 2 3 4 5]\n",
            " [5 4 3 2 1]\n",
            " [1 2 3 4 5]]\n"
          ]
        }
      ]
    },
    {
      "cell_type": "markdown",
      "metadata": {
        "id": "5eV8vJ4s4a2A"
      },
      "source": [
        "Question 2. Create a Python code that displays a square matrix whose elements below the principal diagonal are zero (10 points)\n",
        "\n"
      ]
    },
    {
      "cell_type": "code",
      "metadata": {
        "colab": {
          "base_uri": "https://localhost:8080/"
        },
        "id": "t8AOsfW648mT",
        "outputId": "9111f900-3429-4560-c82f-a13964bd359c"
      },
      "source": [
        "B = np.triu(A)\n",
        "print(B)"
      ],
      "execution_count": 26,
      "outputs": [
        {
          "output_type": "stream",
          "name": "stdout",
          "text": [
            "[[1 2 3 4 5]\n",
            " [0 4 3 2 1]\n",
            " [0 0 3 4 5]\n",
            " [0 0 0 2 1]\n",
            " [0 0 0 0 5]]\n"
          ]
        }
      ]
    },
    {
      "cell_type": "markdown",
      "metadata": {
        "id": "nCO4GsKK4dP_"
      },
      "source": [
        "Question 3. Create a Python code that displays a square matrix which is symmetrical (10 points)\n",
        "\n"
      ]
    },
    {
      "cell_type": "code",
      "metadata": {
        "colab": {
          "base_uri": "https://localhost:8080/"
        },
        "id": "xa0Pgpm94833",
        "outputId": "15e70aee-20c6-4c9b-b38c-ee2077b24606"
      },
      "source": [
        "A = np.array([[1,7,7],[5,6,8],[7,3,4]])\n",
        "print(A)\n",
        "B = np.transpose(A)\n",
        "print(B)"
      ],
      "execution_count": 33,
      "outputs": [
        {
          "output_type": "stream",
          "name": "stdout",
          "text": [
            "[[1 7 7]\n",
            " [5 6 8]\n",
            " [7 3 4]]\n",
            "[[1 5 7]\n",
            " [7 6 3]\n",
            " [7 8 4]]\n"
          ]
        }
      ]
    },
    {
      "cell_type": "markdown",
      "metadata": {
        "id": "l95Q7YDU4fkf"
      },
      "source": [
        "Question 4. What is the inverse of matrix C? Show your solution by python coding. (20 points)"
      ]
    },
    {
      "cell_type": "code",
      "metadata": {
        "colab": {
          "base_uri": "https://localhost:8080/"
        },
        "id": "BLNc4gqz49gt",
        "outputId": "38f9a595-66a5-4659-e504-0c54845dfd1f"
      },
      "source": [
        "C = np.array([[1,2,3],[2,3,3],[3,4,-2]])\n",
        "print(C)\n",
        "invC = np.linalg.inv(C) #inverse of matrix C\n",
        "print(invC)"
      ],
      "execution_count": 14,
      "outputs": [
        {
          "output_type": "stream",
          "name": "stdout",
          "text": [
            "[[ 1  2  3]\n",
            " [ 2  3  3]\n",
            " [ 3  4 -2]]\n",
            "[[-3.6  3.2 -0.6]\n",
            " [ 2.6 -2.2  0.6]\n",
            " [-0.2  0.4 -0.2]]\n"
          ]
        }
      ]
    },
    {
      "cell_type": "markdown",
      "metadata": {
        "id": "kgnETdC24h-T"
      },
      "source": [
        "Question 5. What is the determinant of the given matrix in Question 4? Show your solution by python coding. (20 points)"
      ]
    },
    {
      "cell_type": "code",
      "metadata": {
        "colab": {
          "base_uri": "https://localhost:8080/"
        },
        "id": "XGvsnn9j49-d",
        "outputId": "8ada137d-7b64-49ca-f7aa-9b3944c64a13"
      },
      "source": [
        "C = np.array([[1,2,3],[2,3,3],[3,4,-2]]) #matrix C\n",
        "print(C)\n",
        "print(round(np.linalg.det(C))) #determinant of matrix C"
      ],
      "execution_count": 23,
      "outputs": [
        {
          "output_type": "stream",
          "name": "stdout",
          "text": [
            "[[ 1  2  3]\n",
            " [ 2  3  3]\n",
            " [ 3  4 -2]]\n",
            "5\n"
          ]
        }
      ]
    },
    {
      "cell_type": "markdown",
      "metadata": {
        "id": "0EOLkfbl4k2M"
      },
      "source": [
        "Question 6. Find the roots of the linear equations by showing its python codes (30 points)\n",
        "\n",
        "5X1 + 4X2 + X3 = 3.4\n",
        "\n",
        "10X1 + 9X2 + 4X3 = 8.8\n",
        "\n",
        "10X1 + 13X2 + 15X3 = 19.2"
      ]
    },
    {
      "cell_type": "code",
      "metadata": {
        "colab": {
          "base_uri": "https://localhost:8080/"
        },
        "id": "1wgKU4ja4-ij",
        "outputId": "e45ca81f-dd29-4aeb-f40b-6c3f0b96bf9c"
      },
      "source": [
        "D = np.array([[5,4,1],[10,9,4],[10,13,15]]) #creation of matrix D\n",
        "invD = np.linalg.inv(D) #inverse of matrix D\n",
        "E = np.array([[3.4],[8.8],[19.2]]) #creation of matrix E\n",
        "X = np.dot(invD,E) #determining the roots\n",
        "print(X)"
      ],
      "execution_count": 16,
      "outputs": [
        {
          "output_type": "stream",
          "name": "stdout",
          "text": [
            "[[0.2]\n",
            " [0.4]\n",
            " [0.8]]\n"
          ]
        }
      ]
    }
  ]
}