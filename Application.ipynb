{
  "nbformat": 4,
  "nbformat_minor": 0,
  "metadata": {
    "colab": {
      "name": "Application.ipynb",
      "provenance": [],
      "collapsed_sections": [],
      "authorship_tag": "ABX9TyM5a1l/b4I7zt+83M5QKdxH",
      "include_colab_link": true
    },
    "kernelspec": {
      "name": "python3",
      "display_name": "Python 3"
    },
    "language_info": {
      "name": "python"
    }
  },
  "cells": [
    {
      "cell_type": "markdown",
      "metadata": {
        "id": "view-in-github",
        "colab_type": "text"
      },
      "source": [
        "<a href=\"https://colab.research.google.com/github/qwertinuiop/Linear-Algebra-58019/blob/main/Application.ipynb\" target=\"_parent\"><img src=\"https://colab.research.google.com/assets/colab-badge.svg\" alt=\"Open In Colab\"/></a>"
      ]
    },
    {
      "cell_type": "markdown",
      "metadata": {
        "id": "K953i5QRPZYv"
      },
      "source": [
        "###The price of one apple and one orange"
      ]
    },
    {
      "cell_type": "code",
      "metadata": {
        "colab": {
          "base_uri": "https://localhost:8080/"
        },
        "id": "EpfWhV6LPTwA",
        "outputId": "34859359-0fb9-46bf-a0bb-12ec6618e3c8"
      },
      "source": [
        "import numpy as np\n",
        "from scipy.linalg import solve\n",
        "A = np.array([[20,10],[17,22]])\n",
        "B = np.array([[350],[500]])\n",
        "print(A)\n",
        "print(B)\n",
        "X = solve(A,B)\n",
        "print(X)"
      ],
      "execution_count": 17,
      "outputs": [
        {
          "output_type": "stream",
          "name": "stdout",
          "text": [
            "[[20 10]\n",
            " [17 22]]\n",
            "[[350]\n",
            " [500]]\n",
            "[[10.]\n",
            " [15.]]\n"
          ]
        }
      ]
    },
    {
      "cell_type": "code",
      "metadata": {
        "colab": {
          "base_uri": "https://localhost:8080/"
        },
        "id": "nW4XPsGbQJg1",
        "outputId": "1cf318c6-add4-4ac3-ce6c-4c1f9245a7bb"
      },
      "source": [
        "inv_A = np.linalg.inv(A)\n",
        "print(inv_A)\n",
        "X = np.linalg.inv(A).dot(B)\n",
        "print(X)"
      ],
      "execution_count": 18,
      "outputs": [
        {
          "output_type": "stream",
          "name": "stdout",
          "text": [
            "[[ 0.08148148 -0.03703704]\n",
            " [-0.06296296  0.07407407]]\n",
            "[[10.]\n",
            " [15.]]\n"
          ]
        }
      ]
    },
    {
      "cell_type": "markdown",
      "metadata": {
        "id": "NUqt0MuwQcIf"
      },
      "source": [
        "##Solving for three linear equations with unknown variables x, y, and z"
      ]
    },
    {
      "cell_type": "code",
      "metadata": {
        "colab": {
          "base_uri": "https://localhost:8080/"
        },
        "id": "MleS_xTzQbI-",
        "outputId": "40f39ebe-fc2c-49f5-b6cc-9b73f9633ac1"
      },
      "source": [
        "#4x+3y+2z=25\n",
        "#-2z+2y+3z=-10\n",
        "#3x-5y+2z=-4\n",
        "\n",
        "A = np.array([[4,3,2],[-2,2,3],[3,-5,2]])\n",
        "B = np.array([[25],[-10],[-4]])\n",
        "print(A)\n",
        "print(B)\n",
        "X = solve(A,B)\n",
        "print(X)"
      ],
      "execution_count": 19,
      "outputs": [
        {
          "output_type": "stream",
          "name": "stdout",
          "text": [
            "[[ 4  3  2]\n",
            " [-2  2  3]\n",
            " [ 3 -5  2]]\n",
            "[[ 25]\n",
            " [-10]\n",
            " [ -4]]\n",
            "[[ 5.]\n",
            " [ 3.]\n",
            " [-2.]]\n"
          ]
        }
      ]
    }
  ]
}